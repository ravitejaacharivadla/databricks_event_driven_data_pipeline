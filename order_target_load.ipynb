{
 "cells": [
  {
   "cell_type": "code",
   "execution_count": 0,
   "metadata": {
    "application/vnd.databricks.v1+cell": {
     "cellMetadata": {
      "byteLimit": 2048000,
      "rowLimit": 10000
     },
     "inputWidgets": {},
     "nuid": "d90d475a-3a0d-4773-97c6-2be9cc403ca9",
     "showTitle": false,
     "tableResultSettingsMap": {},
     "title": ""
    }
   },
   "outputs": [],
   "source": [
    "from delta.tables import *\n",
    "\n",
    "stage_table_name = '`increamental-load`.default.orders_stage'\n",
    "target_table_name = '`increamental-load`.default.orders_target'\n",
    "\n",
    "stage_df = spark.read.table(stage_table_name)\n",
    "stage_df.display()\n",
    "if not spark.catalog.tableExists(target_table_name):\n",
    "    stage_df.write.format('delta').saveAsTable(target_table_name)\n",
    "else:\n",
    "    target_table = DeltaTable.forName(spark, target_table_name)\n",
    "    merge_condition = \"stage.tracking_num = target.tracking_num\"\n",
    "    target_table.alias('target').merge(\n",
    "        stage_df.alias('stage'),merge_condition\n",
    "    ).whenMatchedDelete().execute()\n",
    "\n",
    "stage_df.write.mode('append').format('delta').saveAsTable(target_table_name)\n"
   ]
  },
  {
   "cell_type": "code",
   "execution_count": 0,
   "metadata": {
    "application/vnd.databricks.v1+cell": {
     "cellMetadata": {},
     "inputWidgets": {},
     "nuid": "e5840ae4-35d4-4806-8ce0-c19c37e4718e",
     "showTitle": false,
     "tableResultSettingsMap": {},
     "title": ""
    }
   },
   "outputs": [],
   "source": []
  }
 ],
 "metadata": {
  "application/vnd.databricks.v1+notebook": {
   "computePreferences": null,
   "dashboards": [],
   "environmentMetadata": {
    "base_environment": "",
    "environment_version": "3"
   },
   "inputWidgetPreferences": null,
   "language": "python",
   "notebookMetadata": {
    "pythonIndentUnit": 4
   },
   "notebookName": "order_target_load",
   "widgets": {}
  },
  "language_info": {
   "name": "python"
  }
 },
 "nbformat": 4,
 "nbformat_minor": 0
}
